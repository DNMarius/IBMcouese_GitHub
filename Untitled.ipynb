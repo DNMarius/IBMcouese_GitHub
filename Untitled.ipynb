{
 "cells": [
  {
   "cell_type": "markdown",
   "id": "d1a7a0a3-6d8e-4f53-b4c8-ff525799fb6f",
   "metadata": {},
   "source": [
    "<h1>My Jupyter notebook on IBM Watson Studio</h1>"
   ]
  },
  {
   "cell_type": "markdown",
   "id": "bc3e54f6-c381-4588-b996-8a8ee1d4110a",
   "metadata": {},
   "source": [
    "<b>Marius DJOCGOUE</b></br> 3 GI ENSPY"
   ]
  },
  {
   "cell_type": "markdown",
   "id": "e94ed34b-d1e0-4230-8a07-e93f77e6bcc4",
   "metadata": {},
   "source": [
    "<i>i am interested in data science because, it is very interesting and i like work with data </i>"
   ]
  },
  {
   "cell_type": "markdown",
   "id": "a5ff7acf-2bdf-4901-81e9-50d24dcde72d",
   "metadata": {},
   "source": [
    "<h3>It must be executed and must display an output. Try to keep the code simple (it can even be \"1 + 1\").</h3>"
   ]
  },
  {
   "cell_type": "code",
   "execution_count": 2,
   "id": "d449a550-4a45-44fa-b0f8-e8a68917f9b5",
   "metadata": {},
   "outputs": [
    {
     "data": {
      "text/plain": [
       "2"
      ]
     },
     "execution_count": 2,
     "metadata": {},
     "output_type": "execute_result"
    }
   ],
   "source": [
    "1+1"
   ]
  },
  {
   "cell_type": "markdown",
   "id": "7ca75587-85a6-4b82-8dba-a37864834c12",
   "metadata": {},
   "source": [
    "<ol><li>one </li></ol>"
   ]
  }
 ],
 "metadata": {
  "kernelspec": {
   "display_name": "Python",
   "language": "python",
   "name": "conda-env-python-py"
  },
  "language_info": {
   "codemirror_mode": {
    "name": "ipython",
    "version": 3
   },
   "file_extension": ".py",
   "mimetype": "text/x-python",
   "name": "python",
   "nbconvert_exporter": "python",
   "pygments_lexer": "ipython3",
   "version": "3.7.12"
  }
 },
 "nbformat": 4,
 "nbformat_minor": 5
}
